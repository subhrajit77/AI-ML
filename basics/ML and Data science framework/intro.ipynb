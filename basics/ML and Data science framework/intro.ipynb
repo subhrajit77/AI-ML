{
 "cells": [
  {
   "cell_type": "markdown",
   "metadata": {},
   "source": [
    "### Step\n",
    "1. Problem Definition\n",
    "2. Data (What kind of data we have?/ Structured or unstructured )\n",
    "3. Evaluation\n",
    "4. Features(What do we already know about the data)\n",
    "5. Modelling (Based on our problem what ml model should be used)\n"
   ]
  },
  {
   "cell_type": "markdown",
   "metadata": {},
   "source": [
    "### Types of ML Problems:\n",
    "1. Supervised learning: In supervised learning, the machine is trained on a set of labeled data, which means that the input data is paired with the desired output. \n",
    "   "
   ]
  }
 ],
 "metadata": {
  "language_info": {
   "name": "python"
  }
 },
 "nbformat": 4,
 "nbformat_minor": 2
}
