{
 "cells": [
  {
   "cell_type": "markdown",
   "metadata": {},
   "source": [
    "## Types of Data\n",
    "\n",
    "#### 1.Structured Data\n",
    "    eg. Excel files, .csv files etc\n",
    "#### 2.Unstructured Data\n",
    "    eg. voice recordings, images etc\n"
   ]
  },
  {
   "cell_type": "markdown",
   "metadata": {},
   "source": [
    "##### Static Data \n",
    "Data that donot change dynamically. Eg. CSV datat format\n",
    "\n",
    "##### Streaming Data\n",
    "\n",
    "\n",
    "## Features \n",
    "\n"
   ]
  }
 ],
 "metadata": {
  "language_info": {
   "name": "python"
  }
 },
 "nbformat": 4,
 "nbformat_minor": 2
}
