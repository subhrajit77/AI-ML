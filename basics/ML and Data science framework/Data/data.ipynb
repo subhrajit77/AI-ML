{
 "cells": [
  {
   "cell_type": "markdown",
   "metadata": {},
   "source": [
    "## Types of Data\n",
    "\n",
    "#### 1.Structured Data\n",
    "    eg. Excel files, .csv files etc\n",
    "#### 2.Unstructured Data\n",
    "    eg. voice recordings, images etc\n"
   ]
  },
  {
   "cell_type": "markdown",
   "metadata": {},
   "source": [
    "##### Static Data \n",
    "Data that donot change dynamically. Eg. CSV datat format\n",
    "\n",
    "##### Streaming Data\n",
    "\n",
    "\n",
    "## Features \n",
    " 1. Feature variables\n",
    " 2. Target Variables\n"
   ]
  },
  {
   "cell_type": "markdown",
   "metadata": {},
   "source": [
    "#### Data modelling\n",
    "\n",
    "3 parts:\n",
    "1. Choosing and training a model\n",
    "2. Tuning a model\n",
    "3. Model comparison"
   ]
  }
 ],
 "metadata": {
  "language_info": {
   "name": "python"
  }
 },
 "nbformat": 4,
 "nbformat_minor": 2
}
