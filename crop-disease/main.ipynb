{
 "cells": [
  {
   "cell_type": "code",
   "execution_count": 6,
   "id": "5d2b0fa0",
   "metadata": {},
   "outputs": [
    {
     "name": "stdout",
     "output_type": "stream",
     "text": [
      "🌟 Model Accuracy: 0.25\n"
     ]
    }
   ],
   "source": [
    "import pandas as pd\n",
    "from sklearn.model_selection import train_test_split\n",
    "from sklearn.ensemble import RandomForestClassifier\n",
    "from sklearn.preprocessing import LabelEncoder\n",
    "from sklearn.metrics import accuracy_score\n",
    "\n",
    "# Loading dataset\n",
    "df = pd.read_csv(\"crop_disease_dataset.csv\")\n",
    "\n",
    "#  (Disease_Label)\n",
    "label_encoder = LabelEncoder()\n",
    "df[\"Disease_Label\"] = label_encoder.fit_transform(df[\"Disease_Label\"])\n",
    "\n",
    "# Define features (X) and target (y)\n",
    "X = df.drop(columns=[\"Disease_Label\"])\n",
    "y = df[\"Disease_Label\"]\n",
    "\n",
    "# training (80%) and testing (20%)\n",
    "X_train, X_test, y_train, y_test = train_test_split(X, y, test_size=0.2, random_state=42)\n",
    "\n",
    "#   Random Forest Model\n",
    "model = RandomForestClassifier(n_estimators=100, random_state=42)\n",
    "model.fit(X_train, y_train)\n",
    "\n",
    "#  Predictions part\n",
    "y_pred = model.predict(X_test)\n",
    "\n",
    "#  Evaluate Model Performance\n",
    "accuracy = accuracy_score(y_test, y_pred)\n",
    "print(f\"🌟 Model Accuracy: {accuracy:.2f}\")\n",
    "\n"
   ]
  },
  {
   "cell_type": "code",
   "execution_count": 8,
   "id": "6b446147",
   "metadata": {},
   "outputs": [
    {
     "name": "stdout",
     "output_type": "stream",
     "text": [
      "Predicted Disease: Viral Disease\n"
     ]
    },
    {
     "name": "stderr",
     "output_type": "stream",
     "text": [
      "f:\\Personal\\Data Science\\AI-ML\\venv\\Lib\\site-packages\\sklearn\\utils\\validation.py:2739: UserWarning: X does not have valid feature names, but RandomForestClassifier was fitted with feature names\n",
      "  warnings.warn(\n"
     ]
    }
   ],
   "source": [
    "sample = [[7.2, 28, 65, 80, 35, 15, 30]]  # New Example Input\n",
    "predicted_disease = label_encoder.inverse_transform(model.predict(sample))[0]\n",
    "print(f\"Predicted Disease: {predicted_disease}\")"
   ]
  },
  {
   "cell_type": "code",
   "execution_count": 4,
   "id": "2af4ed81",
   "metadata": {},
   "outputs": [
    {
     "name": "stdout",
     "output_type": "stream",
     "text": [
      "Predicted Disease: Bacterial Disease\n"
     ]
    },
    {
     "name": "stderr",
     "output_type": "stream",
     "text": [
      "f:\\Personal\\Data Science\\AI-ML\\venv\\Lib\\site-packages\\sklearn\\utils\\validation.py:2739: UserWarning: X does not have valid feature names, but RandomForestClassifier was fitted with feature names\n",
      "  warnings.warn(\n"
     ]
    }
   ],
   "source": [
    "sample = [[4.2, 75, 120, 10, 35, 15, 23]]  # New Example Input\n",
    "predicted_disease = label_encoder.inverse_transform(model.predict(sample))[0]\n",
    "print(f\"Predicted Disease: {predicted_disease}\")"
   ]
  },
  {
   "cell_type": "code",
   "execution_count": 22,
   "id": "30aff1c1",
   "metadata": {},
   "outputs": [
    {
     "name": "stdout",
     "output_type": "stream",
     "text": [
      "Predicted Disease: Bacterial Disease\n"
     ]
    },
    {
     "name": "stderr",
     "output_type": "stream",
     "text": [
      "f:\\Personal\\Data Science\\AI-ML\\venv\\Lib\\site-packages\\sklearn\\utils\\validation.py:2739: UserWarning: X does not have valid feature names, but RandomForestClassifier was fitted with feature names\n",
      "  warnings.warn(\n"
     ]
    }
   ],
   "source": [
    "sample = [[4.2, 75, 120, 10, 35, 15, 23]]  # New Example Input\n",
    "predicted_disease = label_encoder.inverse_transform(model.predict(sample))[0]\n",
    "print(f\"Predicted Disease: {predicted_disease}\")"
   ]
  }
 ],
 "metadata": {
  "kernelspec": {
   "display_name": "venv",
   "language": "python",
   "name": "python3"
  },
  "language_info": {
   "codemirror_mode": {
    "name": "ipython",
    "version": 3
   },
   "file_extension": ".py",
   "mimetype": "text/x-python",
   "name": "python",
   "nbconvert_exporter": "python",
   "pygments_lexer": "ipython3",
   "version": "3.12.3"
  }
 },
 "nbformat": 4,
 "nbformat_minor": 5
}
